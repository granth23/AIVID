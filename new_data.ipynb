{
 "cells": [
  {
   "cell_type": "code",
   "execution_count": 1,
   "metadata": {},
   "outputs": [
    {
     "name": "stderr",
     "output_type": "stream",
     "text": [
      "c:\\Users\\Granth Bagadia\\miniconda3\\envs\\aivid\\lib\\site-packages\\tqdm\\auto.py:21: TqdmWarning: IProgress not found. Please update jupyter and ipywidgets. See https://ipywidgets.readthedocs.io/en/stable/user_install.html\n",
      "  from .autonotebook import tqdm as notebook_tqdm\n"
     ]
    }
   ],
   "source": [
    "from datasets import load_dataset\n",
    "\n",
    "ds = load_dataset(\"keremberke/license-plate-object-detection\", name=\"full\")"
   ]
  },
  {
   "cell_type": "code",
   "execution_count": 30,
   "metadata": {},
   "outputs": [],
   "source": [
    "for i in range(len(ds['train'])):\n",
    "    example = ds['train'][i]\n",
    "    first_image = example['image']\n",
    "    first_boxes = example['objects']['bbox'][0]\n",
    "    first_boxes[2] = first_boxes[2] + first_boxes[0]\n",
    "    first_boxes[3] = first_boxes[3] + first_boxes[1]\n",
    "    new_crop = first_image.crop(first_boxes)\n",
    "    new_crop.save(f\"train/{i}.jpg\")"
   ]
  },
  {
   "cell_type": "code",
   "execution_count": null,
   "metadata": {},
   "outputs": [],
   "source": [
    "import os\n",
    "import cv2\n",
    "import numpy as np\n",
    "import albumentations as A\n",
    "from tqdm import tqdm"
   ]
  },
  {
   "cell_type": "code",
   "execution_count": null,
   "metadata": {},
   "outputs": [],
   "source": [
    "transform = A.Compose([\n",
    "    A.GaussianBlur(blur_limit=(3, 7), p=0.5),        # Apply Gaussian Blur\n",
    "    A.MotionBlur(blur_limit=(3, 7), p=0.5),          # Apply Motion Blur\n",
    "    A.MedianBlur(blur_limit=3, p=0.5),               # Apply Median Blur\n",
    "    A.GaussNoise(var_limit=(10.0, 50.0), p=0.5),     # Add Gaussian Noise\n",
    "    A.RandomBrightnessContrast(p=0.5)                # Random Brightness/Contrast\n",
    "])"
   ]
  },
  {
   "cell_type": "code",
   "execution_count": null,
   "metadata": {},
   "outputs": [],
   "source": [
    "def augment_images(input_dir, output_dir, num_augmentations=5):\n",
    "    if not os.path.exists(output_dir):\n",
    "        os.makedirs(output_dir)\n",
    "\n",
    "    for img_name in tqdm(os.listdir(input_dir)):\n",
    "        img_path = os.path.join(input_dir, img_name)\n",
    "        image = cv2.imread(img_path)\n",
    "        if image is None:\n",
    "            continue\n",
    "\n",
    "        for i in range(num_augmentations):\n",
    "            augmented = transform(image=image)\n",
    "            augmented_image = augmented['image']\n",
    "\n",
    "            # Save augmented image\n",
    "            new_img_name = f\"{os.path.splitext(img_name)[0]}_aug_{i}.jpg\"\n",
    "            cv2.imwrite(os.path.join(output_dir, new_img_name), augmented_image)\n"
   ]
  },
  {
   "cell_type": "code",
   "execution_count": null,
   "metadata": {},
   "outputs": [],
   "source": [
    "input_directory = 'train_not_blur'\n",
    "output_directory = 'train_blur'\n",
    "\n",
    "augment_images(input_directory, output_directory)"
   ]
  }
 ],
 "metadata": {
  "kernelspec": {
   "display_name": "aivid",
   "language": "python",
   "name": "python3"
  },
  "language_info": {
   "codemirror_mode": {
    "name": "ipython",
    "version": 3
   },
   "file_extension": ".py",
   "mimetype": "text/x-python",
   "name": "python",
   "nbconvert_exporter": "python",
   "pygments_lexer": "ipython3",
   "version": "3.8.19"
  }
 },
 "nbformat": 4,
 "nbformat_minor": 2
}
